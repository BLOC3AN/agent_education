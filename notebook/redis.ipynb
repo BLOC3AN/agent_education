{
 "cells": [
  {
   "cell_type": "code",
   "execution_count": 1,
   "id": "d93d9373",
   "metadata": {},
   "outputs": [],
   "source": [
    "import sys\n",
    "sys.path.append(\"..\")\n",
    "from dotenv import load_dotenv\n",
    "load_dotenv()\n",
    "from src.utils.logger import Logger\n",
    "logger = Logger(__name__)\n",
    "from src.llms.gemini import Gemini\n",
    "from src.memory.redis_memory import RedisConversationMemory\n",
    "from src.memory.redis_summaryMemory import SummarizingRedisMemory\n",
    "from src.memory.memortConverSasion import MemoryConversation\n",
    "import redis"
   ]
  },
  {
   "cell_type": "code",
   "execution_count": 2,
   "id": "b2120c4c",
   "metadata": {},
   "outputs": [
    {
     "name": "stderr",
     "output_type": "stream",
     "text": [
      "2025-06-20 13:05:37,796 - __main__ - INFO - ✅ ✅ Connected to Redis: True\n"
     ]
    }
   ],
   "source": [
    "try:\n",
    "    client = redis.Redis(host='localhost', port=6379, decode_responses=True)\n",
    "    logger.info(f\"✅ Connected to Redis: {client.ping()}\")\n",
    "except Exception as e:\n",
    "    print(f\"❌ Failed to connect to Redis: {e}\")"
   ]
  },
  {
   "cell_type": "code",
   "execution_count": 3,
   "id": "834e33bb",
   "metadata": {},
   "outputs": [
    {
     "name": "stderr",
     "output_type": "stream",
     "text": [
      "2025-06-20 13:05:39,163 - src.memory.redis_memory - INFO - ✅ Connecting to Redis at redis://localhost:6379 with session ID: streamlit\n"
     ]
    },
    {
     "data": {
      "text/plain": [
       "[HumanMessage(content='viết cho anh mô tả về con cá lia thia ', additional_kwargs={}, response_metadata={}),\n",
       " AIMessage(content='Chào bạn, để tôi cung cấp cho bạn một mô tả chi tiết về cá lia thia nhé:\\n\\n**Cá lia thia (Betta splendens)**, hay còn gọi là cá betta, là một loài cá cảnh nước ngọt phổ biến thuộc họ Osphronemidae. Chúng nổi tiếng với vẻ đẹp rực rỡ, tính cách hiếu chiến (đặc biệt là con đực) và khả năng sống trong môi trường khắc nghiệt.\\n\\n**Đặc điểm nổi bật:**\\n\\n*   **Ngoại hình:**\\n    *   **Kích thước:** Thường dài khoảng 6-8 cm.\\n    *   **Màu sắc:** Vô cùng đa dạng và phong phú, từ đỏ, xanh, vàng, trắng, đen đến các màu pha trộn. Màu sắc có thể thay đổi tùy thuộc vào dòng, giống và điều kiện sống.\\n    *   **Vây:** Vây lưng, vây hậu môn và vây đuôi rất lớn và xòe rộng, tạo nên vẻ đẹp đặc trưng. Có nhiều kiểu vây khác nhau như đuôi quạt, đuôi kép, đuôi lược, đuôi tưa,...\\n    *   **Hình dáng:** Thân hình thon dài, dẹp bên.\\n*   **Tính cách:**\\n    *   **Hiếu chiến:** Cá lia thia đực rất hiếu chiến với nhau. Chúng sẽ tấn công đối thủ để bảo vệ lãnh thổ. Vì vậy, không nên nuôi chung hai con đực trong cùng một bể.\\n    *   **Tò mò và thông minh:** Cá lia thia có thể nhận biết chủ nhân và học các trò đơn giản.\\n*   **Môi trường sống:**\\n    *   **Nguồn gốc:** Cá lia thia có nguồn gốc từ vùng Đông Nam Á, đặc biệt là Thái Lan.\\n    *   **Môi trường tự nhiên:** Sống ở các vùng nước tù đọng như ruộng lúa, ao hồ, kênh rạch.\\n    *   **Khả năng thích nghi:** Có khả năng lấy oxy trực tiếp từ không khí, giúp chúng sống được trong môi trường thiếu oxy.\\n*   **Chăm sóc:**\\n    *   **Bể nuôi:** Không cần bể quá lớn, nhưng cần có đủ không gian để cá bơi lội.\\n    *   **Nước:** Cần thay nước thường xuyên để đảm bảo chất lượng nước tốt.\\n    *   **Thức ăn:** Ăn tạp, có thể ăn các loại thức ăn viên, trùng chỉ, bo bo,...\\n    *   **Nhiệt độ:** Thích hợp với nhiệt độ từ 24-30°C.\\n\\n**Phân loại:**\\n\\nCó rất nhiều dòng và giống cá lia thia khác nhau, được phân loại dựa trên màu sắc, kiểu vây và hình dáng. Một số dòng phổ biến bao gồm:\\n\\n*   **Halfmoon:** Đuôi xòe rộng hình bán nguyệt.\\n*   **Plakat:** Đuôi ngắn, hình dáng khỏe khoắn.\\n*   **Crowntail:** Vây đuôi xẻ tua rua như vương miện.\\n*   **Veiltail:** Đuôi dài, rủ xuống như tấm màn.\\n\\n**Lưu ý khi nuôi:**\\n\\n*   Không nuôi chung hai con đực trong cùng một bể.\\n*   Cung cấp đủ thức ăn và thay nước thường xuyên.\\n*   Tránh để bể cá ở nơi có ánh nắng trực tiếp.\\n*   Quan sát cá thường xuyên để phát hiện sớm các dấu hiệu bệnh tật.\\n\\nHy vọng mô tả này giúp bạn hiểu rõ hơn về cá lia thia. Nếu bạn có bất kỳ câu hỏi nào khác, đừng ngần ngại hỏi nhé!\\n', additional_kwargs={}, response_metadata={}),\n",
       " HumanMessage(content='thôi dở quá, làm lại đi ', additional_kwargs={}, response_metadata={}),\n",
       " AIMessage(content='Tôi xin lỗi vì mô tả trước chưa đáp ứng được mong đợi của bạn. Để tôi thử lại nhé, lần này sẽ tập trung vào sự hấp dẫn và độc đáo của cá lia thia:\\n\\n**Cá Lia Thia (Betta Splendens): Viên Ngọc Bích Biết Bơi Của Thế Giới Thủy Sinh**\\n\\nHãy tưởng tượng một viên ngọc bích sống động, lấp lánh dưới ánh mặt trời, uyển chuyển bơi lội giữa những rặng san hô đầy màu sắc. Đó chính là cá lia thia, hay còn gọi là cá betta, một tuyệt tác của tạo hóa, một vũ công ba lê duyên dáng của thế giới nước ngọt.\\n\\n**Vẻ Đẹp Vượt Thời Gian:**\\n\\n*   **Bảng Màu Không Giới Hạn:** Cá lia thia không chỉ đơn thuần là một loài cá, mà là một tác phẩm nghệ thuật sống động. Từ sắc đỏ rực lửa của hoàng hôn, đến màu xanh sapphire sâu thẳm của đại dương, từ ánh vàng kim lấp lánh của bình minh, đến màu đen huyền bí của màn đêm, cá lia thia khoác lên mình tất cả những gam màu đẹp nhất của thế giới tự nhiên.\\n*   **Vũ Điệu Của Những Chiếc Vây:** Vây của cá lia thia không chỉ là bộ phận giúp chúng di chuyển, mà còn là những dải lụa mềm mại, uyển chuyển theo từng nhịp điệu của dòng nước. Vây đuôi xòe rộng như chiếc quạt ba tiêu, vây lưng dựng đứng như cánh buồm no gió, vây bụng thướt tha như dải lụa đào, tất cả tạo nên một vũ điệu mê hoặc lòng người.\\n*   **Sự Kiêu Hãnh Của Kẻ Thống Trị:** Cá lia thia đực mang trong mình dòng máu của những chiến binh dũng cảm. Chúng sẵn sàng xòe vây, phô trương vẻ đẹp lộng lẫy để bảo vệ lãnh thổ của mình. Sự kiêu hãnh và mạnh mẽ đó càng làm tăng thêm sức hút của loài cá này.\\n\\n**Hơn Cả Một Loài Cá Cảnh:**\\n\\n*   **Người Bạn Đồng Hành Tinh Tế:** Cá lia thia không chỉ là một vật trang trí cho bể cá của bạn, mà còn là một người bạn đồng hành tinh tế. Chúng có thể nhận ra chủ nhân, tương tác với bạn qua ánh mắt và cử chỉ.\\n*   **Liệu Pháp Màu Sắc:** Ngắm nhìn cá lia thia bơi lội có thể giúp bạn thư giãn, giảm căng thẳng và tìm lại sự cân bằng trong cuộc sống. Màu sắc rực rỡ của chúng có tác dụng kích thích não bộ, khơi gợi cảm hứng và mang lại niềm vui.\\n*   **Biểu Tượng Của Sự May Mắn:** Trong văn hóa phương Đông, cá lia thia được coi là biểu tượng của sự may mắn, tài lộc và thịnh vượng. Nuôi cá lia thia trong nhà có thể mang lại những điều tốt lành cho gia chủ.\\n\\n**Hãy Để Cá Lia Thia Tô Điểm Cuộc Sống Của Bạn:**\\n\\nNếu bạn đang tìm kiếm một loài cá cảnh độc đáo, đẹp mắt và dễ chăm sóc, thì cá lia thia chính là sự lựa chọn hoàn hảo. Hãy để những viên ngọc bích biết bơi này tô điểm cho không gian sống của bạn, mang lại niềm vui và sự thư thái mỗi ngày.\\n\\nBạn thấy mô tả này thế nào? Tôi có thể điều chỉnh thêm nếu bạn muốn.\\n', additional_kwargs={}, response_metadata={}),\n",
       " HumanMessage(content='200 chữ thôi  ', additional_kwargs={}, response_metadata={}),\n",
       " AIMessage(content='Tuyệt vời, đây là mô tả về cá lia thia trong khoảng 200 chữ:\\n\\nCá lia thia (Betta splendens), hay cá betta, là viên ngọc bích sống động của thế giới thủy sinh. Nổi tiếng với vẻ đẹp rực rỡ, chúng khoác lên mình vô vàn sắc màu từ đỏ rực lửa đến xanh sapphire sâu thẳm. Vây của cá lia thia không chỉ là công cụ di chuyển mà còn là những dải lụa mềm mại, uyển chuyển theo dòng nước.\\n\\nCá lia thia đực mang trong mình dòng máu chiến binh, sẵn sàng phô trương vẻ đẹp để bảo vệ lãnh thổ. Hơn cả một loài cá cảnh, chúng là người bạn đồng hành tinh tế, mang lại sự thư giãn và niềm vui. Trong văn hóa phương Đông, cá lia thia còn là biểu tượng của may mắn và thịnh vượng. Hãy để cá lia thia tô điểm cho cuộc sống của bạn!\\n', additional_kwargs={}, response_metadata={})]"
      ]
     },
     "execution_count": 3,
     "metadata": {},
     "output_type": "execute_result"
    }
   ],
   "source": [
    "memory = RedisConversationMemory(redis_url=\"redis://localhost:6379\",session_id=\"streamlit\").chat_messages\n",
    "memory"
   ]
  },
  {
   "cell_type": "code",
   "execution_count": 4,
   "id": "bac0a127",
   "metadata": {},
   "outputs": [
    {
     "data": {
      "text/plain": [
       "'Người dùng yêu cầu một mô tả về cá lia thia. AI cung cấp một mô tả chi tiết, nhưng người dùng không hài lòng. AI tạo một mô tả khác, tập trung vào sự hấp dẫn và độc đáo của loài cá này. Sau đó, người dùng yêu cầu mô tả ngắn gọn hơn (khoảng 200 chữ), và AI đã cung cấp một phiên bản rút gọn.'"
      ]
     },
     "execution_count": 4,
     "metadata": {},
     "output_type": "execute_result"
    }
   ],
   "source": [
    "llm = Gemini().llm\n",
    "SummarizingRedisMemory(redis_url=\"redis://localhost:6379\", session_id=\"streamlit\", llm=llm).update_summary(str(memory))"
   ]
  },
  {
   "cell_type": "code",
   "execution_count": 5,
   "id": "ca159da0",
   "metadata": {},
   "outputs": [
    {
     "data": {
      "text/plain": [
       "{'chat_history': [],\n",
       " 'conversation_summary': 'Người dùng yêu cầu một mô tả về cá lia thia. AI cung cấp một mô tả chi tiết, nhưng người dùng không hài lòng. AI tạo một mô tả khác, tập trung vào sự hấp dẫn và độc đáo của loài cá này. Sau đó, người dùng yêu cầu mô tả ngắn gọn hơn (khoảng 200 chữ), và AI đã cung cấp một phiên bản rút gọn.'}"
      ]
     },
     "execution_count": 5,
     "metadata": {},
     "output_type": "execute_result"
    }
   ],
   "source": [
    "memory_summary = SummarizingRedisMemory(redis_url=\"redis://localhost:6379\", session_id=\"streamlit\", llm=llm)\n",
    "memory_summary.load_memory_variables({})"
   ]
  },
  {
   "cell_type": "code",
   "execution_count": null,
   "id": "26a77b86",
   "metadata": {},
   "outputs": [],
   "source": []
  }
 ],
 "metadata": {
  "kernelspec": {
   "display_name": "Python 3",
   "language": "python",
   "name": "python3"
  },
  "language_info": {
   "codemirror_mode": {
    "name": "ipython",
    "version": 3
   },
   "file_extension": ".py",
   "mimetype": "text/x-python",
   "name": "python",
   "nbconvert_exporter": "python",
   "pygments_lexer": "ipython3",
   "version": "3.10.12"
  }
 },
 "nbformat": 4,
 "nbformat_minor": 5
}
