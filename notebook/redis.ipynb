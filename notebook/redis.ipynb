{
 "cells": [
  {
   "cell_type": "code",
   "execution_count": 24,
   "id": "d93d9373",
   "metadata": {},
   "outputs": [],
   "source": [
    "import sys\n",
    "sys.path.append(\"..\")\n",
    "from dotenv import load_dotenv\n",
    "load_dotenv()\n",
    "from src.memory.redis_memory import RedisConversationMemory\n",
    "import redis"
   ]
  },
  {
   "cell_type": "code",
   "execution_count": 22,
   "id": "b2120c4c",
   "metadata": {},
   "outputs": [
    {
     "data": {
      "text/plain": [
       "True"
      ]
     },
     "execution_count": 22,
     "metadata": {},
     "output_type": "execute_result"
    }
   ],
   "source": [
    "client = redis.Redis(host='localhost', port=6379, decode_responses=True)\n",
    "client.ping()"
   ]
  },
  {
   "cell_type": "code",
   "execution_count": 31,
   "id": "834e33bb",
   "metadata": {},
   "outputs": [
    {
     "name": "stderr",
     "output_type": "stream",
     "text": [
      "2025-06-20 11:48:17,449 - src.memory.redis_memory - INFO - ✅ Connecting to Redis at redis://localhost:6379 with session ID: streamlit\n",
      "2025-06-20 11:48:17,454 - src.memory.redis_memory - INFO - ✅ Retrieved 12 messages from Redis\n"
     ]
    },
    {
     "data": {
      "text/plain": [
       "[{'type': 'human',\n",
       "  'content': 'Viết cho tôi một bài thơ về vẻ đẹp của bánh trôi nước ',\n",
       "  'timestamp': None},\n",
       " {'type': 'ai',\n",
       "  'content': 'Trắng trong như ngọc, bánh trôi tròn,\\nNằm giữa làn nước, nhẹ nhàng trôi.\\nĐường mật thơm lừng, quyện đỗ xanh,\\nHương vị quê hương, ngọt ngào thanh.\\n\\nBàn tay khéo léo, nặn nên hình,\\nGửi gắm bao điều, ước vọng xinh.\\nNgày Tết Đoan Ngọ, bánh trôi dâng,\\nCầu mong mưa thuận, gió hòa tan.\\n\\nĂn một miếng bánh, nhớ ngày xưa,\\nNhớ mẹ, nhớ bà, những trưa hè.\\nBánh trôi nước ấy, đậm tình quê,\\nVẻ đẹp giản dị, mãi không phai.\\n',\n",
       "  'timestamp': None},\n",
       " {'type': 'human', 'content': 'helllo ', 'timestamp': None},\n",
       " {'type': 'ai',\n",
       "  'content': 'Chào bạn! Bạn có điều gì muốn hỏi hay cần tôi giúp đỡ không?\\n',\n",
       "  'timestamp': None},\n",
       " {'type': 'human', 'content': 'hello ', 'timestamp': None},\n",
       " {'type': 'ai',\n",
       "  'content': 'Chào bạn! Hôm nay bạn thế nào? Tôi có thể giúp gì cho bạn?\\n',\n",
       "  'timestamp': None},\n",
       " {'type': 'human', 'content': 'hello ', 'timestamp': None},\n",
       " {'type': 'ai',\n",
       "  'content': 'Chào bạn! Rất vui được trò chuyện với bạn. Bạn có điều gì muốn chia sẻ hoặc hỏi tôi không?\\n',\n",
       "  'timestamp': None},\n",
       " {'type': 'human', 'content': 'hello ', 'timestamp': None},\n",
       " {'type': 'ai',\n",
       "  'content': 'Chào bạn! Tôi vẫn ở đây nếu bạn cần gì nhé!\\n',\n",
       "  'timestamp': None},\n",
       " {'type': 'human',\n",
       "  'content': 'Viết cho anh một bài thơ về chú cá rô ',\n",
       "  'timestamp': None},\n",
       " {'type': 'ai',\n",
       "  'content': 'Mình vây óng ánh, áo giáp đen,\\nChú cá rô đồng, lặn lội quen.\\nAo sâu ruộng cạn, chẳng nề chi,\\nKiếm mồi no bụng, sống an vui.\\n\\nRâu dài rung nhẹ, mắt tinh anh,\\nPhát hiện nguy hiểm, trốn thật nhanh.\\nBơi lội tung tăng, giữa bùn lầy,\\nMang đến niềm vui, mỗi sớm mai.\\n\\nThịt cá rô đồng, ngọt thơm ngon,\\nMón ăn dân dã, đậm tình son.\\nNhớ về quê mẹ, nhớ ruộng đồng,\\nHình ảnh cá rô, mãi trong lòng.\\n',\n",
       "  'timestamp': None}]"
      ]
     },
     "execution_count": 31,
     "metadata": {},
     "output_type": "execute_result"
    }
   ],
   "source": [
    "RedisConversationMemory(\n",
    "    redis_url=\"redis://localhost:6379\",\n",
    "    session_id=\"streamlit\"\n",
    "    ).get_chat_history()"
   ]
  },
  {
   "cell_type": "code",
   "execution_count": 37,
   "id": "2b271f7c",
   "metadata": {},
   "outputs": [
    {
     "name": "stderr",
     "output_type": "stream",
     "text": [
      "2025-06-20 11:54:31,428 - src.memory.redis_memory - INFO - ✅ Connecting to Redis at redis://localhost:6379 with session ID: streamlit\n"
     ]
    },
    {
     "data": {
      "text/plain": [
       "'output'"
      ]
     },
     "execution_count": 37,
     "metadata": {},
     "output_type": "execute_result"
    }
   ],
   "source": [
    "RedisConversationMemory(\n",
    "    redis_url=\"redis://localhost:6379\",\n",
    "    session_id=\"streamlit\"\n",
    "    ).output_key"
   ]
  },
  {
   "cell_type": "code",
   "execution_count": null,
   "id": "bac0a127",
   "metadata": {},
   "outputs": [],
   "source": []
  }
 ],
 "metadata": {
  "kernelspec": {
   "display_name": "Python 3",
   "language": "python",
   "name": "python3"
  },
  "language_info": {
   "codemirror_mode": {
    "name": "ipython",
    "version": 3
   },
   "file_extension": ".py",
   "mimetype": "text/x-python",
   "name": "python",
   "nbconvert_exporter": "python",
   "pygments_lexer": "ipython3",
   "version": "3.10.12"
  }
 },
 "nbformat": 4,
 "nbformat_minor": 5
}
