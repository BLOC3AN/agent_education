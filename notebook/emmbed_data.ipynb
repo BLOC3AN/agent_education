{
 "cells": [
  {
   "cell_type": "code",
   "execution_count": 11,
   "id": "9bd3babc",
   "metadata": {},
   "outputs": [],
   "source": [
    "import sys\n",
    "sys.path.append(\"../\")\n",
    "from src.utils.logger import Logger\n",
    "logger = Logger(__name__)\n",
    "from src.RAG.embedded_data import emmbeded_data_folder, EmmbededData\n",
    "from src.RAG.qdrant_vectordb import QdrantVectorDB\n",
    "import os\n",
    "os.environ[\"QDRANT_URL\"] = \"localhost:6333\""
   ]
  },
  {
   "cell_type": "code",
   "execution_count": 12,
   "id": "2c1aab94",
   "metadata": {},
   "outputs": [
    {
     "name": "stderr",
     "output_type": "stream",
     "text": [
      "2025-06-21 17:19:55,217 - src.RAG.embedded_data - INFO - ✅ Emmbeding data from ../data/RAG/Giao an theo Tuan Lop 4 Giao an Tuan 28  Lop 4.docx to collection document\n",
      "INFO:src.RAG.embedded_data:✅ Emmbeding data from ../data/RAG/Giao an theo Tuan Lop 4 Giao an Tuan 28  Lop 4.docx to collection document\n",
      "2025-06-21 17:19:55,534 - src.RAG.embedded_data - INFO - ✅ Loaded 121 documents from ../data/RAG/Giao an theo Tuan Lop 4 Giao an Tuan 28  Lop 4.docx\n",
      "INFO:src.RAG.embedded_data:✅ Loaded 121 documents from ../data/RAG/Giao an theo Tuan Lop 4 Giao an Tuan 28  Lop 4.docx\n",
      "2025-06-21 17:19:55,652 - src.RAG.qdrant_vectordb - INFO - ✅ \n",
      "            QdrantVectorDB initialized with:\n",
      "            - URL: localhost:6333\n",
      "            - Vector name: dense\n",
      "            - Model embedding: BAAI/bge-small-en\n",
      "        \n",
      "INFO:src.RAG.qdrant_vectordb:✅ \n",
      "            QdrantVectorDB initialized with:\n",
      "            - URL: localhost:6333\n",
      "            - Vector name: dense\n",
      "            - Model embedding: BAAI/bge-small-en\n",
      "        \n",
      "2025-06-21 17:19:55,659 - src.RAG.qdrant_vectordb - WARNING - ⚠️ Collection `document` does not exist\n",
      "WARNING:src.RAG.qdrant_vectordb:⚠️ Collection `document` does not exist\n",
      "2025-06-21 17:19:55,791 - src.RAG.qdrant_vectordb - INFO - ✅ \n",
      "            QdrantVectorDB initialized with:\n",
      "            - URL: localhost:6333\n",
      "            - Vector name: dense\n",
      "            - Model embedding: BAAI/bge-small-en\n",
      "        \n",
      "INFO:src.RAG.qdrant_vectordb:✅ \n",
      "            QdrantVectorDB initialized with:\n",
      "            - URL: localhost:6333\n",
      "            - Vector name: dense\n",
      "            - Model embedding: BAAI/bge-small-en\n",
      "        \n",
      "2025-06-21 17:19:55,796 - src.RAG.qdrant_vectordb - WARNING - ⚠️ Collection `document` does not exist\n",
      "WARNING:src.RAG.qdrant_vectordb:⚠️ Collection `document` does not exist\n",
      "2025-06-21 17:19:55,955 - src.RAG.qdrant_vectordb - INFO - ✅ Created collection document\n",
      "INFO:src.RAG.qdrant_vectordb:✅ Created collection document\n",
      "2025-06-21 17:19:56,086 - src.RAG.qdrant_vectordb - INFO - ✅ \n",
      "            QdrantVectorDB initialized with:\n",
      "            - URL: localhost:6333\n",
      "            - Vector name: dense\n",
      "            - Model embedding: BAAI/bge-small-en\n",
      "        \n",
      "INFO:src.RAG.qdrant_vectordb:✅ \n",
      "            QdrantVectorDB initialized with:\n",
      "            - URL: localhost:6333\n",
      "            - Vector name: dense\n",
      "            - Model embedding: BAAI/bge-small-en\n",
      "        \n",
      "2025-06-21 17:20:05,247 - src.RAG.qdrant_vectordb - INFO - ✅ ✅ Upserted 121 points to collection document\n",
      "INFO:src.RAG.qdrant_vectordb:✅ ✅ Upserted 121 points to collection document\n",
      "2025-06-21 17:20:05,274 - src.RAG.embedded_data - INFO - ✅ Upserted 121 documents to collection document\n",
      "INFO:src.RAG.embedded_data:✅ Upserted 121 documents to collection document\n",
      "2025-06-21 17:20:05,276 - src.RAG.embedded_data - INFO - ✅ Emmbeded all data in ../data/RAG to collection document\n",
      "INFO:src.RAG.embedded_data:✅ Emmbeded all data in ../data/RAG to collection document\n"
     ]
    }
   ],
   "source": [
    "emmbeded_data_folder(\"../data/RAG\", \"document\")"
   ]
  },
  {
   "cell_type": "code",
   "execution_count": 3,
   "id": "00655a66",
   "metadata": {},
   "outputs": [],
   "source": [
    "doc = EmmbededData().read_docx(\"../data/RAG/Giao an theo Tuan Lop 4 Giao an Tuan 28  Lop 4.docx\")"
   ]
  },
  {
   "cell_type": "code",
   "execution_count": 13,
   "id": "bfc730fe",
   "metadata": {},
   "outputs": [],
   "source": [
    "splitt = EmmbededData().split_text(doc)"
   ]
  },
  {
   "cell_type": "code",
   "execution_count": 5,
   "id": "9b73cf7c",
   "metadata": {},
   "outputs": [],
   "source": [
    "from qdrant_client import QdrantClient, models\n",
    "\n",
    "# 1. Connect to Qdrant server\n",
    "client = QdrantClient(\"http://localhost:6333\")"
   ]
  },
  {
   "cell_type": "code",
   "execution_count": null,
   "id": "f813412b",
   "metadata": {},
   "outputs": [
    {
     "data": {
      "text/plain": [
       "[{'name': 'dense_multivector_demo'},\n",
       " {'name': 'document'},\n",
       " {'name': 'test_collection'}]"
      ]
     },
     "execution_count": 43,
     "metadata": {},
     "output_type": "execute_result"
    }
   ],
   "source": [
    "client.get_collections().model_dump().get(\"collections\")"
   ]
  },
  {
   "cell_type": "code",
   "execution_count": 55,
   "id": "bddf1546",
   "metadata": {},
   "outputs": [
    {
     "name": "stderr",
     "output_type": "stream",
     "text": [
      "2025-06-21 16:19:03,123 - __main__ - INFO - ✅ Collection `document` already exists\n",
      "INFO:__main__:✅ Collection `document` already exists\n"
     ]
    },
    {
     "data": {
      "text/plain": [
       "True"
      ]
     },
     "execution_count": 55,
     "metadata": {},
     "output_type": "execute_result"
    }
   ],
   "source": [
    "def  check_collection(collection_name:str):\n",
    "    try:\n",
    "        collections = client.get_collections().model_dump().get(\"collections\")\n",
    "        if {'name':collection_name} in collections: #type:ignore\n",
    "            logger.info(f\"Collection `{collection_name}` already exists\")\n",
    "            return True\n",
    "        logger.warning(f\"Collection `{collection_name}` does not exist\")\n",
    "        return False\n",
    "    except Exception as e:\n",
    "        logger.error(f\"❌ Failed to check collection: {e}\")\n",
    "        return False\n",
    "\n",
    "check_collection(\"document\")\n"
   ]
  },
  {
   "cell_type": "code",
   "execution_count": 38,
   "id": "c3084b63",
   "metadata": {},
   "outputs": [
    {
     "name": "stdout",
     "output_type": "stream",
     "text": [
      "text='Tuần 28' model='BAAI/bge-small-en' options=None\n"
     ]
    }
   ],
   "source": [
    "\n",
    "query_text = \"Tuần 28\"\n",
    "dense_documents = [\n",
    "    models.Document(text=doc, model=\"BAAI/bge-small-en\")\n",
    "    for doc in splitt\n",
    "]\n",
    "dense_query = models.Document(text=query_text, model=\"BAAI/bge-small-en\")\n",
    "print(dense_query)"
   ]
  },
  {
   "cell_type": "code",
   "execution_count": 18,
   "id": "06240a1f",
   "metadata": {},
   "outputs": [
    {
     "data": {
      "text/plain": [
       "True"
      ]
     },
     "execution_count": 18,
     "metadata": {},
     "output_type": "execute_result"
    }
   ],
   "source": [
    "collection_name = \"dense_multivector_demo\"\n",
    "client.create_collection(\n",
    "    collection_name=collection_name,\n",
    "    vectors_config={\n",
    "        \"dense\": models.VectorParams(\n",
    "            size=384,\n",
    "            distance=models.Distance.COSINE\n",
    "            # Leave HNSW indexing ON for dense\n",
    "        ),\n",
    "        \"colbert\": models.VectorParams(\n",
    "            size=128,\n",
    "            distance=models.Distance.COSINE,\n",
    "            multivector_config=models.MultiVectorConfig(\n",
    "                comparator=models.MultiVectorComparator.MAX_SIM\n",
    "            ),\n",
    "            hnsw_config=models.HnswConfigDiff(m=0)  # Disable HNSW for reranking\n",
    "        )\n",
    "    }\n",
    ")"
   ]
  },
  {
   "cell_type": "code",
   "execution_count": 56,
   "id": "35625236",
   "metadata": {},
   "outputs": [
    {
     "name": "stdout",
     "output_type": "stream",
     "text": [
      "text='Tuần 28' model='BAAI/bge-small-en' options=None\n"
     ]
    },
    {
     "data": {
      "text/plain": [
       "UpdateResult(operation_id=3, status=<UpdateStatus.COMPLETED: 'completed'>)"
      ]
     },
     "execution_count": 56,
     "metadata": {},
     "output_type": "execute_result"
    }
   ],
   "source": [
    "query_text = \"Tuần 28\"\n",
    "dense_documents = [\n",
    "    models.Document(text=doc, model=\"BAAI/bge-small-en\")\n",
    "    for doc in splitt\n",
    "]\n",
    "dense_query = models.Document(text=query_text, model=\"BAAI/bge-small-en\")\n",
    "print(dense_query)\n",
    "\n",
    "points = [\n",
    "    models.PointStruct(\n",
    "        id=i,\n",
    "        vector={\n",
    "            \"dense\": dense_documents[i],\n",
    "        },\n",
    "        payload={\"text\": splitt[i]}\n",
    "    ) for i in range(len(splitt))\n",
    "]\n",
    "client.upsert(collection_name=\"dense_multivector_demo\", points=points)"
   ]
  },
  {
   "cell_type": "code",
   "execution_count": 39,
   "id": "73ee7466",
   "metadata": {},
   "outputs": [],
   "source": [
    "results = client.query_points(\n",
    "    collection_name=\"dense_multivector_demo\",\n",
    "    prefetch=models.Prefetch(\n",
    "        query=dense_query,\n",
    "        using=\"dense\",\n",
    "    ),\n",
    "    query=dense_query,\n",
    "    using=\"dense\",\n",
    "    limit=3,\n",
    "    with_payload=True\n",
    ")"
   ]
  },
  {
   "cell_type": "code",
   "execution_count": 60,
   "id": "ef4b9de8",
   "metadata": {},
   "outputs": [
    {
     "data": {
      "text/plain": [
       "[{'id': 0,\n",
       "  'version': 2,\n",
       "  'score': 0.8650309,\n",
       "  'payload': {'text': 'TUẦN 28\\n(Từ ngày 31/03 đến ngày 04/04/2025)\\nThứ hai ngày 31 tháng 03 năm 2025\\nBUỔI SÁNG:\\nTiết 1: \\t\\t\\t\\t          CHÀO CỜ\\t\\tPPCT: 28\\n TUẦN 28\\n                                             HOẠT ĐỘNG TRẢI NGHIỆM                                  PPCT: 82\\nHƯỞNG ỨNG PHONG TRÀO “MÔI TRƯỜNG XANH – CUỘC SỐNG XANH”.\\n*Hoạt động trải nghiệm: Hưởng ứng phong trào “Môi trường xanh – Cuộc sống xanh”.\\nA. Yêu cầu cần đạt:\\nGiới thiệu được với bạn bè, người thân về cảnh quan thiên nhiên ở địa phương.'},\n",
       "  'vector': None,\n",
       "  'shard_key': None,\n",
       "  'order_value': None},\n",
       " {'id': 120,\n",
       "  'version': 2,\n",
       "  'score': 0.85663694,\n",
       "  'payload': {'text': 'II. SHTT: Tuần 28 (20’)\\nIII. Vui chơi, giải trí: ( 5’ )\\nHát tập thể'},\n",
       "  'vector': None,\n",
       "  'shard_key': None,\n",
       "  'order_value': None},\n",
       " {'id': 116,\n",
       "  'version': 2,\n",
       "  'score': 0.8556199,\n",
       "  'payload': {'text': 'TUẦN 28\\n\\t\\t\\t\\t\\t\\t\\t\\t\\t\\t\\tTGDK: 35              \\nI. Hoạt động trải nghiệm: (10 phút)\\nBài: Xây dựng phiếu thu hoạch cá nhân về chuyến tham quan\\n1. Yêu cầu cần đạt\\nTự đánh giá các hoạt động trong tuần của bản thân và tham gia đánh giá các hoạt động chung của lớp. Xác định được các việc cần thực hiện trong tuần tiếp theo.\\n2. Cách tiến hành\\n1. GV yêu cầu HS đọc nhiệm vụ và phần gợi ý trong SGK Hoạt động trải nghiệm 4 trang 78 và kiểm tra việc hiểu nhiệm vụ của HS.'},\n",
       "  'vector': None,\n",
       "  'shard_key': None,\n",
       "  'order_value': None}]"
      ]
     },
     "execution_count": 60,
     "metadata": {},
     "output_type": "execute_result"
    }
   ],
   "source": [
    "results.model_dump().get(\"points\")\n"
   ]
  },
  {
   "cell_type": "code",
   "execution_count": 15,
   "id": "c4706b36",
   "metadata": {},
   "outputs": [
    {
     "name": "stderr",
     "output_type": "stream",
     "text": [
      "2025-06-21 17:22:05,887 - src.RAG.qdrant_vectordb - INFO - ✅ \n",
      "            QdrantVectorDB initialized with:\n",
      "            - URL: localhost:6333\n",
      "            - Vector name: dense\n",
      "            - Model embedding: BAAI/bge-small-en\n",
      "        \n",
      "INFO:src.RAG.qdrant_vectordb:✅ \n",
      "            QdrantVectorDB initialized with:\n",
      "            - URL: localhost:6333\n",
      "            - Vector name: dense\n",
      "            - Model embedding: BAAI/bge-small-en\n",
      "        \n",
      "2025-06-21 17:22:05,892 - src.RAG.qdrant_vectordb - INFO - ✅ Collection `dense_multivector_demo` already exists\n",
      "INFO:src.RAG.qdrant_vectordb:✅ Collection `dense_multivector_demo` already exists\n",
      "2025-06-21 17:22:07,039 - src.RAG.qdrant_vectordb - INFO - ✅ ✅ Retrieved results from collection dense_multivector_demo\n",
      "INFO:src.RAG.qdrant_vectordb:✅ ✅ Retrieved results from collection dense_multivector_demo\n"
     ]
    },
    {
     "data": {
      "text/plain": [
       "[{'id': 0,\n",
       "  'version': 3,\n",
       "  'score': 0.8650309,\n",
       "  'payload': {'text': 'TUẦN 28\\n(Từ ngày 31/03 đến ngày 04/04/2025)\\nThứ hai ngày 31 tháng 03 năm 2025\\nBUỔI SÁNG:\\nTiết 1: \\t\\t\\t\\t          CHÀO CỜ\\t\\tPPCT: 28\\n TUẦN 28\\n                                             HOẠT ĐỘNG TRẢI NGHIỆM                                  PPCT: 82\\nHƯỞNG ỨNG PHONG TRÀO “MÔI TRƯỜNG XANH – CUỘC SỐNG XANH”.\\n*Hoạt động trải nghiệm: Hưởng ứng phong trào “Môi trường xanh – Cuộc sống xanh”.\\nA. Yêu cầu cần đạt:\\nGiới thiệu được với bạn bè, người thân về cảnh quan thiên nhiên ở địa phương.'},\n",
       "  'vector': None,\n",
       "  'shard_key': None,\n",
       "  'order_value': None},\n",
       " {'id': 120,\n",
       "  'version': 3,\n",
       "  'score': 0.85663694,\n",
       "  'payload': {'text': 'II. SHTT: Tuần 28 (20’)\\nIII. Vui chơi, giải trí: ( 5’ )\\nHát tập thể'},\n",
       "  'vector': None,\n",
       "  'shard_key': None,\n",
       "  'order_value': None},\n",
       " {'id': 116,\n",
       "  'version': 3,\n",
       "  'score': 0.8556199,\n",
       "  'payload': {'text': 'TUẦN 28\\n\\t\\t\\t\\t\\t\\t\\t\\t\\t\\t\\tTGDK: 35              \\nI. Hoạt động trải nghiệm: (10 phút)\\nBài: Xây dựng phiếu thu hoạch cá nhân về chuyến tham quan\\n1. Yêu cầu cần đạt\\nTự đánh giá các hoạt động trong tuần của bản thân và tham gia đánh giá các hoạt động chung của lớp. Xác định được các việc cần thực hiện trong tuần tiếp theo.\\n2. Cách tiến hành\\n1. GV yêu cầu HS đọc nhiệm vụ và phần gợi ý trong SGK Hoạt động trải nghiệm 4 trang 78 và kiểm tra việc hiểu nhiệm vụ của HS.'},\n",
       "  'vector': None,\n",
       "  'shard_key': None,\n",
       "  'order_value': None}]"
      ]
     },
     "execution_count": 15,
     "metadata": {},
     "output_type": "execute_result"
    }
   ],
   "source": [
    "QdrantVectorDB().query(\"dense_multivector_demo\", \"Tuần 28\", 10)"
   ]
  },
  {
   "cell_type": "code",
   "execution_count": null,
   "id": "0f4c643d",
   "metadata": {},
   "outputs": [],
   "source": []
  }
 ],
 "metadata": {
  "kernelspec": {
   "display_name": "Python 3",
   "language": "python",
   "name": "python3"
  },
  "language_info": {
   "codemirror_mode": {
    "name": "ipython",
    "version": 3
   },
   "file_extension": ".py",
   "mimetype": "text/x-python",
   "name": "python",
   "nbconvert_exporter": "python",
   "pygments_lexer": "ipython3",
   "version": "3.10.12"
  }
 },
 "nbformat": 4,
 "nbformat_minor": 5
}
