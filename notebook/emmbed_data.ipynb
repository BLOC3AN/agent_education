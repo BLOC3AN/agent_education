{
 "cells": [
  {
   "cell_type": "code",
   "execution_count": 1,
   "id": "9bd3babc",
   "metadata": {},
   "outputs": [
    {
     "name": "stderr",
     "output_type": "stream",
     "text": [
      "/home/hai/.local/lib/python3.10/site-packages/tqdm/auto.py:21: TqdmWarning: IProgress not found. Please update jupyter and ipywidgets. See https://ipywidgets.readthedocs.io/en/stable/user_install.html\n",
      "  from .autonotebook import tqdm as notebook_tqdm\n"
     ]
    }
   ],
   "source": [
    "import sys\n",
    "sys.path.append(\"../\")\n",
    "from src.RAG.embedded_data import emmbeded_data_folder, EmmbededData\n",
    "from src.RAG.qdrant_vectordb import QdrantVectorDB\n"
   ]
  },
  {
   "cell_type": "code",
   "execution_count": null,
   "id": "87c0486b",
   "metadata": {},
   "outputs": [],
   "source": []
  },
  {
   "cell_type": "code",
   "execution_count": 3,
   "id": "2c1aab94",
   "metadata": {},
   "outputs": [
    {
     "name": "stderr",
     "output_type": "stream",
     "text": [
      "2025-06-20 18:23:10,160 - src.RAG.embedded_data - INFO - ✅ Emmbeding data from ../data/RAG/Giao an theo Tuan Lop 4 Giao an Tuan 28  Lop 4.docx to collection document\n",
      "2025-06-20 18:23:10,565 - src.RAG.embedded_data - INFO - ✅ Loaded 121 documents from ../data/RAG/Giao an theo Tuan Lop 4 Giao an Tuan 28  Lop 4.docx\n",
      "2025-06-20 18:23:10,733 - src.RAG.qdrant_vectordb - INFO - ✅ Created collection document\n",
      "2025-06-20 18:24:06,679 - src.RAG.qdrant_vectordb - ERROR - ❌ Failed to upsert: timed out\n",
      "2025-06-20 18:24:06,749 - src.RAG.embedded_data - INFO - ✅ Upserted 121 documents to collection document\n",
      "2025-06-20 18:24:06,751 - src.RAG.embedded_data - INFO - ✅ Emmbeded all data in ../data/RAG to collection document\n"
     ]
    }
   ],
   "source": [
    "emmbeded_data_folder(\"../data/RAG\", \"document\")\n"
   ]
  },
  {
   "cell_type": "code",
   "execution_count": 6,
   "id": "00655a66",
   "metadata": {},
   "outputs": [],
   "source": [
    "doc = EmmbededData().read_docx(\"../data/RAG/Giao an theo Tuan Lop 4 Giao an Tuan 28  Lop 4.docx\")"
   ]
  },
  {
   "cell_type": "code",
   "execution_count": 7,
   "id": "bfc730fe",
   "metadata": {},
   "outputs": [],
   "source": [
    "splitt = EmmbededData().split_text(doc)"
   ]
  },
  {
   "cell_type": "code",
   "execution_count": 2,
   "id": "9b73cf7c",
   "metadata": {},
   "outputs": [
    {
     "data": {
      "text/plain": [
       "'http://localhost:6333'"
      ]
     },
     "execution_count": 2,
     "metadata": {},
     "output_type": "execute_result"
    }
   ],
   "source": [
    "QdrantVectorDB().url\n",
    "# QdrantVectorDB().upsert(\"document\", splitt)\n"
   ]
  },
  {
   "cell_type": "code",
   "execution_count": 12,
   "id": "e3b8f5a9",
   "metadata": {},
   "outputs": [
    {
     "data": {
      "text/plain": [
       "src.RAG.qdrant_vectordb.QdrantVectorDB"
      ]
     },
     "execution_count": 12,
     "metadata": {},
     "output_type": "execute_result"
    }
   ],
   "source": [
    "QdrantVectorDB"
   ]
  },
  {
   "cell_type": "code",
   "execution_count": 16,
   "id": "382c948b",
   "metadata": {},
   "outputs": [
    {
     "name": "stderr",
     "output_type": "stream",
     "text": [
      "2025-06-20 18:12:42,470 - src.RAG.qdrant_vectordb - ERROR - ❌ Failed to query: [Errno -3] Temporary failure in name resolution\n",
      "ERROR:src.RAG.qdrant_vectordb:❌ Failed to query: [Errno -3] Temporary failure in name resolution\n"
     ]
    }
   ],
   "source": [
    "QdrantVectorDB().query(\"document\", \"làm sao để học tập tốt\", 3)"
   ]
  },
  {
   "cell_type": "code",
   "execution_count": null,
   "id": "f813412b",
   "metadata": {},
   "outputs": [],
   "source": []
  }
 ],
 "metadata": {
  "kernelspec": {
   "display_name": "Python 3",
   "language": "python",
   "name": "python3"
  },
  "language_info": {
   "codemirror_mode": {
    "name": "ipython",
    "version": 3
   },
   "file_extension": ".py",
   "mimetype": "text/x-python",
   "name": "python",
   "nbconvert_exporter": "python",
   "pygments_lexer": "ipython3",
   "version": "3.10.12"
  }
 },
 "nbformat": 4,
 "nbformat_minor": 5
}
