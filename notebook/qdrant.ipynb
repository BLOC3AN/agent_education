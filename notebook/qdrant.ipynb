{
 "cells": [
  {
   "cell_type": "code",
   "execution_count": 50,
   "id": "19773f01",
   "metadata": {},
   "outputs": [],
   "source": [
    "from qdrant_client import QdrantClient, models\n",
    "# from fastembed import SparseTextEmbedding, SparseEmbedding\n",
    "\n",
    "\n",
    "client = QdrantClient(url=\"http://localhost:6333\")\n",
    "# SparseTextEmbedding.list_supported_models()"
   ]
  },
  {
   "cell_type": "markdown",
   "id": "525ac5e6",
   "metadata": {},
   "source": [
    "## Get Collections"
   ]
  },
  {
   "cell_type": "code",
   "execution_count": 51,
   "id": "d68ba5fe",
   "metadata": {},
   "outputs": [
    {
     "data": {
      "text/plain": [
       "[{'name': 'document'}]"
      ]
     },
     "execution_count": 51,
     "metadata": {},
     "output_type": "execute_result"
    }
   ],
   "source": [
    "collections = client.get_collections()\n",
    "collections.model_dump().get(\"collections\")"
   ]
  },
  {
   "cell_type": "markdown",
   "id": "14db3c1e",
   "metadata": {},
   "source": [
    "\n",
    "## Create Collection"
   ]
  },
  {
   "cell_type": "code",
   "execution_count": 46,
   "id": "20d20870",
   "metadata": {},
   "outputs": [],
   "source": [
    "from qdrant_client.models import Distance, VectorParams\n",
    "\n",
    "try:\n",
    "    client.delete_collection(collection_name=\"test_collection\")\n",
    "    collection_name = \"test_collection\"\n",
    "    vector_size = 6\n",
    "    client.create_collection(\n",
    "        collection_name=collection_name,\n",
    "        vectors_config=models.VectorParams(size=vector_size, distance=models.Distance.COSINE), # Adjust size if needed\n",
    "    )\n",
    "except Exception as e:\n",
    "    print(f\"❌ Failed to create collection: {e}\")"
   ]
  },
  {
   "cell_type": "markdown",
   "id": "ad7a2940",
   "metadata": {},
   "source": [
    "## Delete Collection"
   ]
  },
  {
   "cell_type": "code",
   "execution_count": 12,
   "id": "087f0eb9",
   "metadata": {},
   "outputs": [],
   "source": [
    "# client.delete_collection(collection_name=\"test_collection\")"
   ]
  },
  {
   "cell_type": "markdown",
   "id": "e22260bf",
   "metadata": {},
   "source": [
    "## Add Vectors"
   ]
  },
  {
   "cell_type": "code",
   "execution_count": 20,
   "id": "a6707052",
   "metadata": {},
   "outputs": [
    {
     "name": "stdout",
     "output_type": "stream",
     "text": [
      "operation_id=0 status=<UpdateStatus.COMPLETED: 'completed'>\n"
     ]
    }
   ],
   "source": [
    "from qdrant_client.models import PointStruct\n",
    "\n",
    "operation_info = client.upsert(\n",
    "    collection_name=\"DOCUMENT\",\n",
    "    wait=True,\n",
    "    points=[\n",
    "        PointStruct(id=1, vector=[0.05, 0.61, 0.76, 0.74], payload={\"city\": \"Berlin\"}),\n",
    "        PointStruct(id=2, vector=[0.19, 0.81, 0.75, 0.11], payload={\"city\": \"London\"}),\n",
    "        PointStruct(id=3, vector=[0.36, 0.55, 0.47, 0.94], payload={\"city\": \"Moscow\"}),\n",
    "        PointStruct(id=4, vector=[0.18, 0.01, 0.85, 0.80], payload={\"city\": \"New York\"}),\n",
    "        PointStruct(id=5, vector=[0.24, 0.18, 0.22, 0.44], payload={\"city\": \"Beijing\"}),\n",
    "        PointStruct(id=6, vector=[0.35, 0.08, 0.11, 0.44], payload={\"city\": \"Mumbai\"}),\n",
    "    ],\n",
    ")\n",
    "\n",
    "print(operation_info)"
   ]
  },
  {
   "cell_type": "markdown",
   "id": "11fa4d49",
   "metadata": {},
   "source": [
    "## Run a Query"
   ]
  },
  {
   "cell_type": "code",
   "execution_count": 21,
   "id": "73a5226e",
   "metadata": {},
   "outputs": [
    {
     "data": {
      "text/plain": [
       "[ScoredPoint(id=4, version=0, score=0.99248314, payload={'city': 'New York'}, vector=None, shard_key=None, order_value=None),\n",
       " ScoredPoint(id=1, version=0, score=0.89463294, payload={'city': 'Berlin'}, vector=None, shard_key=None, order_value=None),\n",
       " ScoredPoint(id=5, version=0, score=0.8543979, payload={'city': 'Beijing'}, vector=None, shard_key=None, order_value=None)]"
      ]
     },
     "execution_count": 21,
     "metadata": {},
     "output_type": "execute_result"
    }
   ],
   "source": [
    "search_result = client.query_points(\n",
    "    collection_name=\"test_collection\",\n",
    "    query=[0.2, 0.1, 0.9, 0.7],\n",
    "    with_payload=True,\n",
    "    limit=3\n",
    ").points\n",
    "\n",
    "search_result"
   ]
  },
  {
   "cell_type": "markdown",
   "id": "7b92392f",
   "metadata": {},
   "source": [
    "## Add Filters"
   ]
  },
  {
   "cell_type": "code",
   "execution_count": 22,
   "id": "978788ab",
   "metadata": {},
   "outputs": [
    {
     "data": {
      "text/plain": [
       "[ScoredPoint(id=2, version=0, score=0.66603535, payload={'city': 'London'}, vector=None, shard_key=None, order_value=None)]"
      ]
     },
     "execution_count": 22,
     "metadata": {},
     "output_type": "execute_result"
    }
   ],
   "source": [
    "from qdrant_client.models import Filter, FieldCondition, MatchValue\n",
    "\n",
    "search_result = client.query_points(\n",
    "    collection_name=\"test_collection\",\n",
    "    query=[0.2, 0.1, 0.9, 0.7],\n",
    "    query_filter=Filter(\n",
    "        must=[FieldCondition(key=\"city\", match=MatchValue(value=\"London\"))]\n",
    "    ),\n",
    "    with_payload=True,\n",
    "    limit=5,\n",
    ").points\n",
    "\n",
    "search_result"
   ]
  },
  {
   "cell_type": "markdown",
   "id": "7aeef9e3",
   "metadata": {},
   "source": [
    "## Step-by-Step: ColBERT + Qdrant Setup\n"
   ]
  },
  {
   "cell_type": "code",
   "execution_count": 14,
   "id": "2614ce48",
   "metadata": {},
   "outputs": [],
   "source": [
    "from qdrant_client import QdrantClient, models\n",
    "\n",
    "# 1. Connect to Qdrant server\n",
    "client = QdrantClient(\"http://localhost:6333\")"
   ]
  },
  {
   "cell_type": "markdown",
   "id": "1270e581",
   "metadata": {},
   "source": [
    "### 1.Encode Documents"
   ]
  },
  {
   "cell_type": "code",
   "execution_count": 23,
   "id": "08a6f77d",
   "metadata": {},
   "outputs": [
    {
     "name": "stdout",
     "output_type": "stream",
     "text": [
      "text='How does AI help in medicine?' model='BAAI/bge-small-en' options=None\n"
     ]
    },
    {
     "data": {
      "text/plain": [
       "Document(text='How does AI help in medicine?', model='colbert-ir/colbertv2.0', options=None)"
      ]
     },
     "execution_count": 23,
     "metadata": {},
     "output_type": "execute_result"
    }
   ],
   "source": [
    "from fastembed import TextEmbedding, LateInteractionTextEmbedding\n",
    "# Example documents and query\n",
    "documents = [\n",
    "    \"Artificial intelligence is used in hospitals for cancer diagnosis and treatment.\",\n",
    "    \"Self-driving cars use AI to detect obstacles and make driving decisions.\",\n",
    "    \"AI is transforming customer service through chatbots and automation.\",\n",
    "    # ...\n",
    "]\n",
    "query_text = \"How does AI help in medicine?\"\n",
    "\n",
    "dense_documents = [\n",
    "    models.Document(text=doc, model=\"BAAI/bge-small-en\")\n",
    "    for doc in documents\n",
    "]\n",
    "dense_query = models.Document(text=query_text, model=\"BAAI/bge-small-en\")\n",
    "print(dense_query)\n",
    "\n",
    "\n",
    "colbert_documents = [\n",
    "    models.Document(text=doc, model=\"colbert-ir/colbertv2.0\")\n",
    "    for doc in documents\n",
    "]\n",
    "colbert_query = models.Document(text=query_text, model=\"colbert-ir/colbertv2.0\")\n",
    "colbert_query"
   ]
  },
  {
   "cell_type": "markdown",
   "id": "583da953",
   "metadata": {},
   "source": [
    "### 2. Create a Qdrant collection\n"
   ]
  },
  {
   "cell_type": "code",
   "execution_count": 47,
   "id": "49e8d958",
   "metadata": {},
   "outputs": [
    {
     "data": {
      "text/plain": [
       "True"
      ]
     },
     "execution_count": 47,
     "metadata": {},
     "output_type": "execute_result"
    }
   ],
   "source": [
    "collection_name = \"dense_multivector_demo\"\n",
    "client.create_collection(\n",
    "    collection_name=collection_name,\n",
    "    vectors_config={\n",
    "        \"dense\": models.VectorParams(\n",
    "            size=384,\n",
    "            distance=models.Distance.COSINE\n",
    "            # Leave HNSW indexing ON for dense\n",
    "        ),\n",
    "        \"colbert\": models.VectorParams(\n",
    "            size=128,\n",
    "            distance=models.Distance.COSINE,\n",
    "            multivector_config=models.MultiVectorConfig(\n",
    "                comparator=models.MultiVectorComparator.MAX_SIM\n",
    "            ),\n",
    "            hnsw_config=models.HnswConfigDiff(m=0)  # Disable HNSW for reranking\n",
    "        )\n",
    "    }\n",
    ")"
   ]
  },
  {
   "cell_type": "markdown",
   "id": "c9265dc1",
   "metadata": {},
   "source": [
    "### 3. Upload Documents (Dense + Multivector)\n"
   ]
  },
  {
   "cell_type": "code",
   "execution_count": 53,
   "id": "b3a8427a",
   "metadata": {},
   "outputs": [
    {
     "data": {
      "text/plain": [
       "UpdateResult(operation_id=1, status=<UpdateStatus.COMPLETED: 'completed'>)"
      ]
     },
     "execution_count": 53,
     "metadata": {},
     "output_type": "execute_result"
    }
   ],
   "source": [
    "points = [\n",
    "    models.PointStruct(\n",
    "        id=i,\n",
    "        vector={\n",
    "            \"dense\": dense_documents[i],\n",
    "            \"colbert\": colbert_documents[i]\n",
    "        },\n",
    "        payload={\"text\": documents[i]}\n",
    "    ) for i in range(len(documents))\n",
    "]\n",
    "client.upsert(collection_name=\"dense_multivector_demo\", points=points)"
   ]
  },
  {
   "cell_type": "markdown",
   "id": "109821ef",
   "metadata": {},
   "source": [
    "#### Query with Retrieval + Reranking in One Call\n"
   ]
  },
  {
   "cell_type": "code",
   "execution_count": 26,
   "id": "e470fd4c",
   "metadata": {},
   "outputs": [],
   "source": [
    "results = client.query_points(\n",
    "    collection_name=\"dense_multivector_demo\",\n",
    "    prefetch=models.Prefetch(\n",
    "        query=dense_query,\n",
    "        using=\"dense\",\n",
    "    ),\n",
    "    query=colbert_query,\n",
    "    using=\"colbert\",\n",
    "    limit=3,\n",
    "    with_payload=True\n",
    ")"
   ]
  },
  {
   "cell_type": "code",
   "execution_count": 27,
   "id": "362f6926",
   "metadata": {},
   "outputs": [
    {
     "data": {
      "text/plain": [
       "QueryResponse(points=[ScoredPoint(id=1, version=0, score=18.812857, payload={'text': 'Self-driving cars use AI to detect obstacles and make driving decisions.'}, vector=None, shard_key=None, order_value=None), ScoredPoint(id=2, version=0, score=18.604212, payload={'text': 'AI is transforming customer service through chatbots and automation.'}, vector=None, shard_key=None, order_value=None), ScoredPoint(id=0, version=0, score=14.950949, payload={'text': 'Artificial intelligence is used in hospitals for cancer diagnosis and treatment.'}, vector=None, shard_key=None, order_value=None)])"
      ]
     },
     "execution_count": 27,
     "metadata": {},
     "output_type": "execute_result"
    }
   ],
   "source": [
    "results"
   ]
  },
  {
   "cell_type": "code",
   "execution_count": null,
   "id": "28da58dd",
   "metadata": {},
   "outputs": [],
   "source": []
  }
 ],
 "metadata": {
  "kernelspec": {
   "display_name": "Python 3",
   "language": "python",
   "name": "python3"
  },
  "language_info": {
   "codemirror_mode": {
    "name": "ipython",
    "version": 3
   },
   "file_extension": ".py",
   "mimetype": "text/x-python",
   "name": "python",
   "nbconvert_exporter": "python",
   "pygments_lexer": "ipython3",
   "version": "3.10.12"
  }
 },
 "nbformat": 4,
 "nbformat_minor": 5
}
